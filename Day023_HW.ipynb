{
 "cells": [
  {
   "cell_type": "code",
   "execution_count": null,
   "metadata": {},
   "outputs": [],
   "source": [
    "#練習從東森新聞雲網站中，爬取財經新聞摘要及詳細內容\n",
    "from selenium import webdriver\n",
    "from selenium.webdriver.support.ui import Select\n",
    "from bs4 import BeautifulSoup\n",
    "import time\n",
    "\n",
    "driverpath = \"E:\\\\Python\\\\Anaconda\\\\geckodriver.exe\"\n",
    "browser = webdriver.Firefox(executable_path=driverpath)\n",
    "browser.get(\"https://www.ettoday.net/news/focus/%E8%B2%A1%E7%B6%93/\")\n",
    "\n",
    "#用Selenium模擬下拉網頁動作，讓網頁更新\n",
    "SCROLL_PAUSE_TIME = 1\n",
    "last_height = browser.execute_script(\"window.scrollTo(0, document.body.scrollHeight);\")\n",
    "\n",
    "while True:\n",
    "    "
   ]
  }
 ],
 "metadata": {
  "kernelspec": {
   "display_name": "Python 3",
   "language": "python",
   "name": "python3"
  },
  "language_info": {
   "codemirror_mode": {
    "name": "ipython",
    "version": 3
   },
   "file_extension": ".py",
   "mimetype": "text/x-python",
   "name": "python",
   "nbconvert_exporter": "python",
   "pygments_lexer": "ipython3",
   "version": "3.7.3"
  }
 },
 "nbformat": 4,
 "nbformat_minor": 4
}
