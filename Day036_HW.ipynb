{
 "cells": [
  {
   "cell_type": "code",
   "execution_count": null,
   "metadata": {},
   "outputs": [],
   "source": [
    "非同步技術：指得是我們每發出一個requests都要等待server端的回應，而非同步技術可以充分利用這個等待時間，\n",
    "同時再發出其他requests，直到server成功回應時，才開始用同一個執行緒出處理回應回來的資料。\n",
    "他並不會占用到多的CPU核心數，只是充分利用在同一個核心上的運算量而已。\n",
    "\n",
    "多執行緒：無非就是，使用多個CPU核心去處理事情，這邊要比較注意的是，假設你的CPU核心不夠，\n",
    "硬是將執行緒的數量開的比核心數多，將可能會被強制終止某些執行緒。\n",
    "\n",
    "多執行緒在速度上有明顯提升，但執行的網頁順序是無序的，線上程的切換上開銷也比較大，執行緒越多，開銷越大。\n",
    "\n",
    "非同步方法在爬蟲中是有效的速度提升手段，使用aiohttp可以非同步地處理HTTP請求，使用asyncio可以實現非同步IO\n",
    "\n"
   ]
  }
 ],
 "metadata": {
  "kernelspec": {
   "display_name": "Python 3",
   "language": "python",
   "name": "python3"
  },
  "language_info": {
   "codemirror_mode": {
    "name": "ipython",
    "version": 3
   },
   "file_extension": ".py",
   "mimetype": "text/x-python",
   "name": "python",
   "nbconvert_exporter": "python",
   "pygments_lexer": "ipython3",
   "version": "3.7.3"
  }
 },
 "nbformat": 4,
 "nbformat_minor": 4
}
