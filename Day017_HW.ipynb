{
 "cells": [
  {
   "cell_type": "code",
   "execution_count": null,
   "metadata": {},
   "outputs": [],
   "source": [
    "#動態網頁跟靜態網頁的差別是什麼？原本靜態網頁的做法會產生什麼問題或是缺點？\n",
    "靜態網頁：\n",
    "超文件標示語言HyperText Markup Language，簡稱：HTML，\n",
    "一般判斷方式為網頁副檔名為html或htm皆為靜態網頁，靜態網頁的優勢為容易為搜尋引擎所接受，\n",
    "所以很多動態網頁會將動態網頁轉變成靜態方式，\n",
    "就是所謂的【偽靜態網頁】來提高搜尋引擎的友善度達到排名優化的成效。\n",
    "\n",
    "動態網頁：\n",
    "動態網頁主要是搭配伺服器與資料庫共同運作，主要是使用大量編譯的地方，\n",
    "如會員功能、購物車、討論區等等..，意思是指可以與網頁做互動編譯的網頁，\n",
    "動態網頁的內容隨著用戶的輸入和互動而有所不同有Perl、PHP、ASP、JSP、ColdFusion等編譯方式，\n",
    "從而對動態網頁的內容進行改變。\n",
    "\n",
    "靜態網頁與動態的區別：\n",
    "靜態網頁與動態網頁是可以同時存在一個網站上的，二種語言各有其優勢，\n",
    "靜態網站主要是用於較於簡單，更新的不頻繁的網頁，\n",
    "反之動態網站較適合用於，資料內容較大，更新快速的網頁，\n",
    "讓維護人員可以更方便管理網站，也大幅降低維護成本。"
   ]
  },
  {
   "cell_type": "code",
   "execution_count": null,
   "metadata": {},
   "outputs": [],
   "source": [
    "# 2. 還記得我們在 ETTODAY 靜態爬蟲實作練習中，有請大家完成一個題目「取出今天所有的發文」，\n",
    "#但仔細看其實並沒有真的把當天所有的新聞都抓回來， 試著回答看看原因是什麼？及該如何檢查？\n",
    "\n",
    "使用網站會發現，往下捲的時候可以取得更多的資料。像這種利用使用者互動，才執行程式取得資料的行為是由 JavaScript 執行的。\n",
    "因此透過 Python 執行爬蟲的過程中，並沒有執行到 JavaScript 這一段，因此無法取得資料。\n",
    "更嚴謹的檢查可以把瀏覽器的 JavaScript 關閉，會發現無法網下載入更多資料，證明這個動作真的是由 JavaScript 在瀏覽器上運行的。"
   ]
  }
 ],
 "metadata": {
  "kernelspec": {
   "display_name": "Python 3",
   "language": "python",
   "name": "python3"
  },
  "language_info": {
   "codemirror_mode": {
    "name": "ipython",
    "version": 3
   },
   "file_extension": ".py",
   "mimetype": "text/x-python",
   "name": "python",
   "nbconvert_exporter": "python",
   "pygments_lexer": "ipython3",
   "version": "3.7.3"
  }
 },
 "nbformat": 4,
 "nbformat_minor": 4
}
