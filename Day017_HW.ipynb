{
 "cells": [
  {
   "cell_type": "code",
   "execution_count": null,
   "metadata": {},
   "outputs": [],
   "source": [
    "#動態網頁跟靜態網頁的差別是什麼？原本靜態網頁的做法會產生什麼問題或是缺點？\n",
    "靜態網頁：\n",
    "超文件標示語言HyperText Markup Language，簡稱：HTML，\n",
    "一般判斷方式為網頁副檔名為html或htm皆為靜態網頁，靜態網頁的優勢為容易為搜尋引擎所接受，\n",
    "所以很多動態網頁會將動態網頁轉變成靜態方式，\n",
    "就是所謂的【偽靜態網頁】來提高搜尋引擎的友善度達到排名優化的成效。\n",
    "\n",
    "動態網頁：\n",
    "動態網頁主要是搭配伺服器與資料庫共同運作，主要是使用大量編譯的地方，\n",
    "如會員功能、購物車、討論區等等..，意思是指可以與網頁做互動編譯的網頁，\n",
    "動態網頁的內容隨著用戶的輸入和互動而有所不同有Perl、PHP、ASP、JSP、ColdFusion等編譯方式，\n",
    "從而對動態網頁的內容進行改變。\n",
    "\n",
    "靜態網頁與動態的區別：\n",
    "靜態網頁與動態網頁是可以同時存在一個網站上的，二種語言各有其優勢，\n",
    "靜態網站主要是用於較於簡單，更新的不頻繁的網頁，\n",
    "反之動態網站較適合用於，資料內容較大，更新快速的網頁，\n",
    "讓維護人員可以更方便管理網站，也大幅降低維護成本。"
   ]
  }
 ],
 "metadata": {
  "kernelspec": {
   "display_name": "Python 3",
   "language": "python",
   "name": "python3"
  },
  "language_info": {
   "codemirror_mode": {
    "name": "ipython",
    "version": 3
   },
   "file_extension": ".py",
   "mimetype": "text/x-python",
   "name": "python",
   "nbconvert_exporter": "python",
   "pygments_lexer": "ipython3",
   "version": "3.7.3"
  }
 },
 "nbformat": 4,
 "nbformat_minor": 4
}
