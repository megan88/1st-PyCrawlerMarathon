{
 "cells": [
  {
   "cell_type": "code",
   "execution_count": 3,
   "metadata": {},
   "outputs": [
    {
     "data": {
      "text/plain": [
       "'E:\\\\Python\\\\Anaconda\\\\python.exe'"
      ]
     },
     "execution_count": 3,
     "metadata": {},
     "output_type": "execute_result"
    }
   ],
   "source": [
    "pip install grab 無法執行\n",
    "\n",
    "解決方式如下：\n",
    "\n",
    "1. 在jupyter notebook裡面，透過下列程式找出 jupyter notebook中python的路徑\n",
    "\n",
    "----------------------------------\n",
    "\n",
    "import os\n",
    "\n",
    "os.sys.executable\n",
    "\n",
    "----------------------------------\n",
    "\n",
    "2. 找到的路徑時，關閉jupyter notebook，打開終端機，輸入\n",
    "\n",
    "----------------------------------\n",
    "\n",
    "{剛剛找到的python路徑}/python -m pip install grab\n",
    "\n",
    "----------------------------------\n",
    "\n",
    "3. 重新啟動jupyter notebook應該就可以了。"
   ]
  },
  {
   "cell_type": "code",
   "execution_count": 1,
   "metadata": {},
   "outputs": [
    {
     "name": "stdout",
     "output_type": "stream",
     "text": [
      "Requirement already up-to-date: grab in e:\\python\\anaconda\\lib\\site-packages (0.6.41)\n",
      "Requirement already satisfied, skipping upgrade: defusedxml in e:\\python\\anaconda\\lib\\site-packages (from grab) (0.5.0)\n",
      "Requirement already satisfied, skipping upgrade: weblib>=0.1.28 in e:\\python\\anaconda\\lib\\site-packages (from grab) (0.1.30)\n",
      "Requirement already satisfied, skipping upgrade: selection in e:\\python\\anaconda\\lib\\site-packages (from grab) (0.0.14)\n",
      "Requirement already satisfied, skipping upgrade: user-agent in e:\\python\\anaconda\\lib\\site-packages (from grab) (0.1.9)\n",
      "Requirement already satisfied, skipping upgrade: six in e:\\python\\anaconda\\lib\\site-packages (from grab) (1.12.0)\n",
      "Requirement already satisfied, skipping upgrade: pytils in e:\\python\\anaconda\\lib\\site-packages (from weblib>=0.1.28->grab) (0.3)\n"
     ]
    }
   ],
   "source": [
    "!pip install -U grab"
   ]
  },
  {
   "cell_type": "code",
   "execution_count": 1,
   "metadata": {},
   "outputs": [],
   "source": [
    "import logging"
   ]
  },
  {
   "cell_type": "code",
   "execution_count": 2,
   "metadata": {},
   "outputs": [],
   "source": [
    "from grab import Grab"
   ]
  },
  {
   "cell_type": "code",
   "execution_count": 3,
   "metadata": {},
   "outputs": [],
   "source": [
    "g = Grab()"
   ]
  },
  {
   "cell_type": "code",
   "execution_count": 4,
   "metadata": {},
   "outputs": [],
   "source": [
    "resp = g.go('https://google.com/')"
   ]
  },
  {
   "cell_type": "code",
   "execution_count": 5,
   "metadata": {},
   "outputs": [
    {
     "data": {
      "text/plain": [
       "b'<!doctype html><html itemscope=\"\" itemtype=\"http://schema.org/WebPage\" lang=\"zh-TW\"><head><meta content=\"IE=edge\" http-equiv=\"X-UA-Compatible\"><meta http-equiv=\"Content-Type\" content=\"text/html; charset=UTF-8\"><meta content=\"/images/branding/googleg/1x/googleg_standard_color_128dp.png\" itemprop=\"image\"><title>Google</title><style>#gbar,#guser{font-size:13px;padding-top:1px !important;}#gbar{height:22px}#guser{padding-bottom:7px !important;text-align:right}.gbh,.gbd{border-top:1px solid #c9d7f1;font-size:1px}.gbh{height:0;position:absolute;top:24px;width:100%}@media all{.gb1{height:22px;margin-right:.5em;vertical-align:top}#gbar{float:left}}a.gb1,a.gb4{text-decoration:underline !important}a.gb1,a.gb4{color:#00c !important}.gbi .gb4{color:#dd8e27 !important}.gbf .gb4{color:#900 !important}\\n</style><style>body,td,a,p,.h{font-family:arial,sans-serif}body{background:#fff;color:#000;margin:0}#gog{padding:3px 10px 0}td{line-height:.8em}.gac_m td{line-height:17px}form{margin-bottom:20px}.h{color:#36c}.q{color:#00c}.ts td{padding:0}.ts{border-collapse:collapse}.lst{height:32px}.lst{margin-bottom:.2em;padding:4px 5px 0 5px;vertical-align:bottom;width:496px;font:17px arial,sans-serif}.lst:focus{outline:none}.lsb{border:1px solid;border-color:#ccc #999 #999 #ccc;height:1.85em !important;font:15px arial,sans-serif;vertical-align:top}.lsb:active{background:#ccc}em{color:#c03;font-style:normal;font-weight:normal}a em{text-decoration:underline}input{font-family:inherit}a.gb1,a.gb2,a.gb3,a.gb4{color:#11c !important}a{color:#11c;text-decoration:none}a:hover,a:active{text-decoration:underline}.fl a{color:#36c}a:visited{color:#551a8b}a.gb1,a.gb4{text-decoration:underline}a.gb3:hover{text-decoration:none}#ghead a.gb2:hover{color:#fff !important}td.fl a{font-size:11px}</style></head><body bgcolor=\"#fff\"><div id=\"mngb\"> <div id=gbar><nobr><b class=gb1>\\xe6\\x90\\x9c\\xe5\\xb0\\x8b</b> <a class=gb1 href=\"https://www.google.com.tw/imghp?hl=zh-TW&tab=wi\">\\xe5\\x9c\\x96\\xe7\\x89\\x87</a> <a class=gb1 href=\"https://maps.google.com.tw/maps?hl=zh-TW&tab=wl\">\\xe5\\x9c\\xb0\\xe5\\x9c\\x96</a> <a class=gb1 href=\"https://play.google.com/?hl=zh-TW&tab=w8\">Play</a> <a class=gb1 href=\"https://www.youtube.com/?gl=TW&tab=w1\">YouTube</a> <a class=gb1 href=\"https://news.google.com.tw/nwshp?hl=zh-TW&tab=wn\">\\xe6\\x96\\xb0\\xe8\\x81\\x9e</a> <a class=gb1 href=\"https://mail.google.com/mail/?tab=wm\">Gmail</a> <a class=gb1 href=\"https://drive.google.com/?tab=wo\">\\xe9\\x9b\\xb2\\xe7\\xab\\xaf\\xe7\\xa1\\xac\\xe7\\xa2\\x9f</a> <a class=gb1 style=\"text-decoration:none\" href=\"https://www.google.com.tw/intl/zh-TW/about/products?tab=wh\"><u>\\xe6\\x9b\\xb4\\xe5\\xa4\\x9a</u> &raquo;</a></nobr></div><div id=guser width=100%><nobr><span id=gbn class=gbi></span><span id=gbf class=gbf></span><span id=gbe></span><a href=\"http://www.google.com.tw/history/optout?hl=zh-TW\" class=gb4>\\xe7\\xb6\\xb2\\xe9\\xa0\\x81\\xe8\\xa8\\x98\\xe9\\x8c\\x84</a> | <a  href=\"/preferences?hl=zh-TW\" class=gb4>\\xe8\\xa8\\xad\\xe5\\xae\\x9a</a> | <a target=_top id=gb_70 href=\"https://accounts.google.com/ServiceLogin?hl=zh-TW&passive=true&continue=https://www.google.com/\" class=gb4>\\xe7\\x99\\xbb\\xe5\\x85\\xa5</a></nobr></div><div class=gbh style=left:0></div><div class=gbh style=right:0></div> </div><center><br clear=\"all\" id=\"lgpd\"><div id=\"lga\"><img alt=\"Google\" height=\"92\" src=\"/images/branding/googlelogo/1x/googlelogo_white_background_color_272x92dp.png\" style=\"padding:28px 0 14px\" width=\"272\" id=\"hplogo\"><br><br></div><form action=\"/search\" name=\"f\"><table cellpadding=\"0\" cellspacing=\"0\"><tr valign=\"top\"><td width=\"25%\">&nbsp;</td><td align=\"center\" nowrap=\"\"><input value=\"zh-TW\" name=\"hl\" type=\"hidden\"><input name=\"source\" type=\"hidden\" value=\"hp\"><input class=\"lst\" size=\"55\" value=\"\" title=\"Google \\xe6\\x90\\x9c\\xe5\\xb0\\x8b\" maxlength=\"2048\" name=\"q\"><br><div style=\"font-size:0;height:5px\"></div><input class=\"lsb\" value=\"Google \\xe6\\x90\\x9c\\xe5\\xb0\\x8b\" name=\"btnG\" type=\"submit\">&nbsp;<input class=\"lsb\" value=\"\\xe5\\xa5\\xbd\\xe6\\x89\\x8b\\xe6\\xb0\\xa3\" name=\"btnI\" type=\"submit\"><input value=\"AAP1E1EAAAAAXka8NS7sqJwhZMjnPdhhNn-IkZMJ-huE\" name=\"iflsig\" type=\"hidden\"></td><td class=\"fl\" align=\"left\" nowrap=\"\" width=\"25%\">&nbsp;&nbsp;&nbsp;<a href=\"/advanced_search?hl=zh-TW&amp;authuser=0\">\\xe9\\x80\\xb2\\xe9\\x9a\\x8e\\xe6\\x90\\x9c\\xe5\\xb0\\x8b</a></td></tr></table><input id=\"gbv\" name=\"gbv\" type=\"hidden\" value=\"1\"></form><div id=\"gac_scont\"></div><div style=\"font-size:83%;min-height:3.5em\"><br><div id=\"gws-output-pages-elements-homepage_additional_languages__als\"><style>#gws-output-pages-elements-homepage_additional_languages__als{font-size:small;margin-bottom:24px}#SIvCob{display:inline-block;line-height:28px;}#SIvCob a{padding:0 3px;}.H6sW5{display:inline-block;margin:0 2px;white-space:nowrap}.z4hgWe{display:inline-block;margin:0 2px}</style><div id=\"SIvCob\">Google \\xe6\\x8f\\x90\\xe4\\xbe\\x9b\\xef\\xbc\\x9a  <a href=\"https://www.google.com/setprefs?sig=0_vI6BS9VqN1qsFWskSlJV8y5csgA%3D&amp;hl=en&amp;source=homepage&amp;sa=X&amp;ved=0ahUKEwjtiZj2n9HnAhUKG6YKHdI_BRYQ2ZgBCAQ\">English</a>  </div></div></div><span id=\"footer\"><div style=\"font-size:10pt;margin:19px auto;text-align:center\" id=\"fll\"><a href=\"/intl/zh-TW/ads/\">\\xe5\\xbb\\xa3\\xe5\\x91\\x8a\\xe6\\x9c\\x8d\\xe5\\x8b\\x99</a>&nbsp; &nbsp; &nbsp;<a href=\"http://www.google.com.tw/intl/zh-TW/services/\">\\xe5\\x95\\x86\\xe6\\xa5\\xad\\xe8\\xa7\\xa3\\xe6\\xb1\\xba\\xe6\\x96\\xb9\\xe6\\xa1\\x88</a>&nbsp; &nbsp; &nbsp;<a href=\"/intl/zh-TW/about.html\">Google \\xe5\\xae\\x8c\\xe5\\x85\\xa8\\xe6\\x89\\x8b\\xe5\\x86\\x8a</a>&nbsp; &nbsp; &nbsp;<a href=\"https://www.google.com/setprefdomain?prefdom=TW&amp;prev=https://www.google.com.tw/&amp;sig=K_CBJVQDq56iYIyVJJIcsi9x2G5tM%3D\">Google.com.tw</a></div><p style=\"color:#767676;font-size:8pt\">&copy; 2020 - <a href=\"/intl/zh-TW/policies/privacy/\">\\xe9\\x9a\\xb1\\xe7\\xa7\\x81\\xe6\\xac\\x8a</a> - <a href=\"/intl/zh-TW/policies/terms/\">\\xe6\\x9c\\x8d\\xe5\\x8b\\x99\\xe6\\xa2\\x9d\\xe6\\xac\\xbe</a></p></span></center></body></html>'"
      ]
     },
     "execution_count": 5,
     "metadata": {},
     "output_type": "execute_result"
    }
   ],
   "source": [
    "resp.body"
   ]
  },
  {
   "cell_type": "code",
   "execution_count": null,
   "metadata": {},
   "outputs": [],
   "source": []
  }
 ],
 "metadata": {
  "kernelspec": {
   "display_name": "Python 3",
   "language": "python",
   "name": "python3"
  },
  "language_info": {
   "codemirror_mode": {
    "name": "ipython",
    "version": 3
   },
   "file_extension": ".py",
   "mimetype": "text/x-python",
   "name": "python",
   "nbconvert_exporter": "python",
   "pygments_lexer": "ipython3",
   "version": "3.7.3"
  }
 },
 "nbformat": 4,
 "nbformat_minor": 2
}
