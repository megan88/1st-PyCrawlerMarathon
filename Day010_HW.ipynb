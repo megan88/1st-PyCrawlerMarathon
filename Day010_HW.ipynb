{
 "cells": [
  {
   "cell_type": "code",
   "execution_count": 3,
   "metadata": {},
   "outputs": [
    {
     "data": {
      "text/plain": [
       "'E:\\\\Python\\\\Anaconda\\\\python.exe'"
      ]
     },
     "execution_count": 3,
     "metadata": {},
     "output_type": "execute_result"
    }
   ],
   "source": [
    "pip install grab 無法執行\n",
    "\n",
    "解決方式如下：\n",
    "\n",
    "1. 在jupyter notebook裡面，透過下列程式找出 jupyter notebook中python的路徑\n",
    "\n",
    "----------------------------------\n",
    "\n",
    "import os\n",
    "\n",
    "os.sys.executable\n",
    "\n",
    "----------------------------------\n",
    "\n",
    "2. 找到的路徑時，關閉jupyter notebook，打開終端機，輸入\n",
    "\n",
    "----------------------------------\n",
    "\n",
    "{剛剛找到的python路徑}/python -m pip install grab\n",
    "\n",
    "----------------------------------\n",
    "\n",
    "3. 重新啟動jupyter notebook應該就可以了。"
   ]
  },
  {
   "cell_type": "code",
   "execution_count": null,
   "metadata": {},
   "outputs": [],
   "source": [
    "from grab import Grab\n",
    "from pyquery import PyQuery as pq\n",
    "\n",
    "g = Grab()\n",
    "resp = g.go('https://tw.yahoo.com/')\n",
    "doc = pq(resp.body)\n",
    "title = doc('title')\n",
    "print(type(title), title.text())"
   ]
  },
  {
   "cell_type": "code",
   "execution_count": null,
   "metadata": {},
   "outputs": [],
   "source": []
  }
 ],
 "metadata": {
  "kernelspec": {
   "display_name": "Python 3",
   "language": "python",
   "name": "python3"
  },
  "language_info": {
   "codemirror_mode": {
    "name": "ipython",
    "version": 3
   },
   "file_extension": ".py",
   "mimetype": "text/x-python",
   "name": "python",
   "nbconvert_exporter": "python",
   "pygments_lexer": "ipython3",
   "version": "3.7.3"
  }
 },
 "nbformat": 4,
 "nbformat_minor": 2
}
