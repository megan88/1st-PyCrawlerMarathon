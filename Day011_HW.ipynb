{
 "cells": [
  {
   "cell_type": "code",
   "execution_count": 12,
   "metadata": {},
   "outputs": [
    {
     "name": "stdout",
     "output_type": "stream",
     "text": [
      "Matched: 172.217.160.67\n",
      "Matched: 888.777.777.888\n",
      "  group(0): 888.777.777.888\n",
      "  group(1): 888\n",
      "  group(2): 777\n",
      "  group(3): 777\n",
      "  group(4): 888\n"
     ]
    }
   ],
   "source": [
    "#練習過濾 IP address\n",
    "\n",
    "import re  #載入re模組\n",
    "\n",
    "# 定義一個函數，用來測試正規表達式是否匹配文本\n",
    "def RegexMatchingTest(regex, input_text):\n",
    "    #將正規表達式轉換成pattern\n",
    "    pattern = re.compile(regex)\n",
    "    # pattern = re.compile(regex, flags=re.IGNORECASE)  #若要忽略大小寫，在編譯時加上flags=re.IGNORECASE\n",
    "    \n",
    "    # 帶入編譯後的pattern，來測試是否匹配\n",
    "    # 這裡也可以用match()、split()、findall()、sub()等其他函數來測試匹配\n",
    "    result = re.search(pattern, input_text)\n",
    "\n",
    "    if result:\n",
    "        # 匹配完的結果會儲存在group()的屬性中，我們可以把匹配的結果列印出來\n",
    "        print(\"Matched: %s\" % (result.group()))\n",
    "        \n",
    "        if result.lastindex is not None:\n",
    "            # group(0)代表整個字串，group(1)、group(2)...代表分組中，匹配的內容\n",
    "            for i in range(0, result.lastindex+1):\n",
    "                print(\"  group(%d): %s\" % (i, result.group(i)))\n",
    "    else:\n",
    "        print(\"Not matched.\")\n",
    "        \n",
    "#Simple regex to check for an IP address:        \n",
    "regex = \"\\d{1,3}.\\d{1,3}.\\d{1,3}.\\d{1,3}\"    \n",
    "test_string1 = \"172.217.160.67\"\n",
    "RegexMatchingTest(regex, test_string1)  #測試表達式是否會匹配此合法IP\"\n",
    "\n",
    "#Simple regex that captures the four parts of the IP address:\n",
    "regex=\"^([0-9]{1,3})\\.([0-9]{1,3})\\.([0-9]{1,3})\\.([0-9]{1,3})$\"\n",
    "test_string1 = \"888.777.777.888\"\n",
    "RegexMatchingTest(regex, test_string1)  #測試表達式是否會匹配此合法IP\"\n"
   ]
  },
  {
   "cell_type": "code",
   "execution_count": 14,
   "metadata": {},
   "outputs": [
    {
     "name": "stdout",
     "output_type": "stream",
     "text": [
      "Matched: https://newebank.bot.com.tw\n"
     ]
    }
   ],
   "source": [
    "#練習過濾 URL\n",
    "\n",
    "import re  #載入re模組\n",
    "\n",
    "html_a_tag =\"https://newebank.bot.com.tw/\"\n",
    "regex = \"(?:http[s](?:.*)(?:\\\\w+))\" \n",
    "\n",
    "RegexMatchingTest(regex, html_a_tag)"
   ]
  },
  {
   "cell_type": "code",
   "execution_count": null,
   "metadata": {},
   "outputs": [],
   "source": []
  }
 ],
 "metadata": {
  "kernelspec": {
   "display_name": "Python 3",
   "language": "python",
   "name": "python3"
  },
  "language_info": {
   "codemirror_mode": {
    "name": "ipython",
    "version": 3
   },
   "file_extension": ".py",
   "mimetype": "text/x-python",
   "name": "python",
   "nbconvert_exporter": "python",
   "pygments_lexer": "ipython3",
   "version": "3.7.3"
  }
 },
 "nbformat": 4,
 "nbformat_minor": 4
}
