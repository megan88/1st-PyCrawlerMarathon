{
 "cells": [
  {
   "cell_type": "code",
   "execution_count": 2,
   "metadata": {},
   "outputs": [
    {
     "data": {
      "text/plain": [
       "('Homework.txt', <http.client.HTTPMessage at 0x1fe50f34898>)"
      ]
     },
     "execution_count": 2,
     "metadata": {},
     "output_type": "execute_result"
    }
   ],
   "source": [
    "#下載指定檔案到 Data 資料夾，存成檔名 Homework.txt\n",
    "from urllib.request import urlretrieve\n",
    "\n",
    "urlretrieve(\"https://www.w3.org/TR/PNG/iso_8859-1.txt\",\"Homework.txt\")"
   ]
  },
  {
   "cell_type": "code",
   "execution_count": 3,
   "metadata": {},
   "outputs": [
    {
     "name": "stdout",
     "output_type": "stream",
     "text": [
      "Homework.txt exists.\n"
     ]
    }
   ],
   "source": [
    "#檢查 Data 資料夾是否有 Homework.txt 檔名之檔案\n",
    "import os.path\n",
    "\n",
    "if os.path.isfile(\"Homework.txt\"):\n",
    "    print(\"Homework.txt exists.\")\n",
    "    "
   ]
  },
  {
   "cell_type": "code",
   "execution_count": 5,
   "metadata": {},
   "outputs": [
    {
     "name": "stdout",
     "output_type": "stream",
     "text": [
      "Hello World\n"
     ]
    }
   ],
   "source": [
    "#將「Hello World」字串覆寫到 Homework.txt 檔案\n",
    "with open(\"Homework.txt\",\"w\") as fh:\n",
    "    fh.write(\"Hello World\")\n",
    "    \n",
    "with open(\"Homework.txt\",\"r\") as fh:\n",
    "    print(fh.read())"
   ]
  },
  {
   "cell_type": "code",
   "execution_count": 11,
   "metadata": {},
   "outputs": [
    {
     "name": "stdout",
     "output_type": "stream",
     "text": [
      "{'encoding': 'ascii', 'confidence': 1.0, 'language': ''}\n",
      "Homework.txt match 'Hello World' font counts\n"
     ]
    }
   ],
   "source": [
    "#檢查 Homework.txt 檔案字數是否符合 Hello World 字數\n",
    "import chardet\n",
    "\n",
    "f = open('Homework.txt', 'rb')\n",
    "data = f.read()\n",
    "print(chardet.detect(data))\n",
    "\n",
    "if (len(data)==len(\"Hello World\")):\n",
    "    print(\"Homework.txt match 'Hello World' font counts\")"
   ]
  },
  {
   "cell_type": "code",
   "execution_count": null,
   "metadata": {},
   "outputs": [],
   "source": [
    "檔案、API、爬蟲三種取得資料方式有什麼不同?\n",
    "\n",
    "一。直接存成開放檔案格式：\n",
    "1.主要的檔案格式為CSV, JSON, XML。\n",
    "2.若有提供上述格式的話，一般的程式語言或商業軟體應都具備存取功能，相對容易處理。\n",
    "\n",
    "二。透過API取得開放檔案格式：\n",
    "1.一般都是直接連到一個資料庫，而資料庫內儲存的都是即時更新最新版本的資料。\n",
    "2.主要分為使用者呼叫查詢和伺服器根據需求回傳兩個動作。\n",
    "3.呼叫方式有POST或GET，一般而言回傳資料格式會是JSON格式。\n",
    "\n",
    "三。爬蟲\n",
    "1.經由HTTP爬取網頁資料，且在本地端進行解析，抽取出想要的部份(網路爬蟲)。"
   ]
  }
 ],
 "metadata": {
  "kernelspec": {
   "display_name": "Python 3",
   "language": "python",
   "name": "python3"
  },
  "language_info": {
   "codemirror_mode": {
    "name": "ipython",
    "version": 3
   },
   "file_extension": ".py",
   "mimetype": "text/x-python",
   "name": "python",
   "nbconvert_exporter": "python",
   "pygments_lexer": "ipython3",
   "version": "3.7.3"
  }
 },
 "nbformat": 4,
 "nbformat_minor": 2
}
