{
 "cells": [
  {
   "cell_type": "code",
   "execution_count": 2,
   "metadata": {},
   "outputs": [
    {
     "name": "stdout",
     "output_type": "stream",
     "text": [
      "==========沒有下一頁了==========\n"
     ]
    }
   ],
   "source": [
    "#從104人力銀行網站爬取求職公司資訊\n",
    "from selenium import webdriver\n",
    "from bs4 import BeautifulSoup\n",
    "import time\n",
    "\n",
    "driverpath = \"E:\\\\Python\\\\Anaconda\\\\geckodriver.exe\"\n",
    "browser = webdriver.Firefox(executable_path=driverpath)\n",
    "job_104_url=\"https://www.104.com.tw/cust/list/index/?page=1&order=1&mode=s&jobsource=checkc&area=6001014000&indcat=1001000000\"\n",
    "browser.get(job_104_url)\n",
    "\n",
    "# delay一段時間等待網頁更新完成\n",
    "time.sleep(2)  \n",
    "\n",
    "while True:\n",
    "    time.sleep(3)  # delay一段時間等待網頁更新完成\n",
    "    html = browser.page_source\n",
    "    soup = BeautifulSoup(html, 'lxml')\n",
    "    company_list = soup.find(\"div\", attrs={'id':\"company-result\"}).find_all(\"article\", attrs={'class':\"items\"})\n",
    "    \n",
    "    for company in company_list:\n",
    "        # 把爬取到的結果，寫入\"company_list.txt\"檔案中\n",
    "        company_name = company.a.string\n",
    "        f = open(\"company_list.txt\", \"a+\", encoding='utf-8')\n",
    "        f.write( company_name + \"\\n\" )  # 寫入公司名稱\n",
    "        \n",
    "        company_desc = company.find(\"p\", attrs={'class':\"desc\"})\n",
    "        f.write( company_desc.string + \"\\n\" )  # 寫入公司簡介\n",
    "        f.write( \"--------------------------------------------------------------------------------\" + \"\\n\" )\n",
    "        f.close()\n",
    "        \n",
    "    # 定位到「下一頁」按鈕\n",
    "    next_button = browser.find_element_by_link_text(\"下一頁\")\n",
    "    button_status = next_button.get_attribute('class')  # 查看目前按鈕屬性\n",
    "    if (button_status == \"page-next disabled\"):  # 檢查是否還有下一頁\n",
    "        print(\"==========沒有下一頁了==========\")\n",
    "        break\n",
    "    \n",
    "    next_button.click()  # 模擬點選「下一頁」按鈕"
   ]
  },
  {
   "cell_type": "code",
   "execution_count": null,
   "metadata": {},
   "outputs": [],
   "source": []
  }
 ],
 "metadata": {
  "kernelspec": {
   "display_name": "Python 3",
   "language": "python",
   "name": "python3"
  },
  "language_info": {
   "codemirror_mode": {
    "name": "ipython",
    "version": 3
   },
   "file_extension": ".py",
   "mimetype": "text/x-python",
   "name": "python",
   "nbconvert_exporter": "python",
   "pygments_lexer": "ipython3",
   "version": "3.7.3"
  }
 },
 "nbformat": 4,
 "nbformat_minor": 4
}
