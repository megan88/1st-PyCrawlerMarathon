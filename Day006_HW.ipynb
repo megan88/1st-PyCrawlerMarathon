{
 "cells": [
  {
   "cell_type": "code",
   "execution_count": 3,
   "metadata": {},
   "outputs": [
    {
     "name": "stdout",
     "output_type": "stream",
     "text": [
      "發問時間:1557824412\n",
      "發問時間:1554085028\n",
      "發問時間:1493707703\n",
      "發問時間:1493693113\n",
      "發問時間:1572318426\n",
      "知乎回答第一筆時間: 1557824412\n",
      "知乎回答最後一筆時間: 1574756054\n"
     ]
    }
   ],
   "source": [
    "import requests\n",
    "import json\n",
    "\n",
    "headers = {'user-agent': 'my-app/0.0.1'}\n",
    "r = requests.get('https://www.zhihu.com/api/v4/questions/55493026/answers',headers=headers)\n",
    "response = r.text\n",
    "\n",
    "data = json.loads(response)\n",
    "\n",
    "#取出知乎問題發問時間\n",
    "for d in data['data']:\n",
    "    print('發問時間:'+str(d['created_time']))\n",
    "    \n",
    "#取出第一筆與最後一筆回答的時間\n",
    "answer_time=[]\n",
    "for d2 in data['data']:\n",
    "    answer_time.append(d2['updated_time'])\n",
    "    \n",
    "print('知乎回答第一筆時間:',answer_time[0])\n",
    "print('知乎回答最後一筆時間:',answer_time[len(answer_time)-1])"
   ]
  },
  {
   "cell_type": "code",
   "execution_count": null,
   "metadata": {},
   "outputs": [],
   "source": []
  }
 ],
 "metadata": {
  "kernelspec": {
   "display_name": "Python 3",
   "language": "python",
   "name": "python3"
  },
  "language_info": {
   "codemirror_mode": {
    "name": "ipython",
    "version": 3
   },
   "file_extension": ".py",
   "mimetype": "text/x-python",
   "name": "python",
   "nbconvert_exporter": "python",
   "pygments_lexer": "ipython3",
   "version": "3.7.3"
  }
 },
 "nbformat": 4,
 "nbformat_minor": 2
}
